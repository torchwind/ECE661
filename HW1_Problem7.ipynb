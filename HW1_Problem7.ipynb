{
 "cells": [
  {
   "cell_type": "code",
   "execution_count": 90,
   "id": "bf4b8ca1",
   "metadata": {},
   "outputs": [],
   "source": [
    "import numpy as np\n",
    "import math\n",
    "import matplotlib.pyplot as plt"
   ]
  },
  {
   "cell_type": "code",
   "execution_count": 112,
   "id": "b0cfd6e3",
   "metadata": {},
   "outputs": [],
   "source": [
    "def laser(angle,point1,point2,point3):\n",
    "    angle_radians = np.radians(angle)\n",
    "    laser_line = np.zeros(3)\n",
    "    laser_line[0] = -math.sin(angle_radians)\n",
    "    laser_line[1] = math.cos(angle_radians)\n",
    "    laser_line[2] = 0\n",
    "    HC_point1 = np.append(point1,1)\n",
    "    HC_point2 = np.append(point2,1)\n",
    "    HC_point3 = np.append(point3,1)\n",
    "    line1 = np.cross(HC_point1,HC_point2)\n",
    "    line2 = np.cross(HC_point1,HC_point3)\n",
    "    line3 = np.cross(HC_point2,HC_point3)\n",
    "    intersection1 = np.cross(laser_line,line1)\n",
    "    intersection2 = np.cross(laser_line,line2)\n",
    "    intersection3 = np.cross(laser_line,line3)\n",
    "    intersection1 = intersection1/intersection1[2]\n",
    "    intersection2 = intersection2/intersection2[2]\n",
    "    intersection3 = intersection3/intersection3[2]\n",
    "    bool1 = min(point1[0],point2[0]) <= intersection1[0] <= max(point1[0],point2[0])\n",
    "    bool2 = min(point1[0],point3[0]) <= intersection2[0] <= max(point1[0],point3[0])\n",
    "    bool3 = min(point2[0],point3[0]) <= intersection3[0] <= max(point2[0],point3[0])\n",
    "    if angle >90:\n",
    "        x = np.linspace(-10,0,400)\n",
    "    else:\n",
    "        x = np.linspace(0,10,400)\n",
    "    y = np.tan(angle_radians)*x\n",
    "    plt.plot(x, y, label = f'alpha = {angle} degre',color='purple')\n",
    "    triangle = np.array([point1, point2, point3, point1])\n",
    "    plt.plot(triangle[:, 0], triangle[:, 1], label='Enemy Triangle', color='red')\n",
    "    plt.scatter([point1[0], point2[0], point3[0]], [point1[1], point2[1], point3[1]], color='green')\n",
    "    for (i, j) in [point1, point2, point3]:\n",
    "        plt.text(i, j, f'({i}, {j})', fontsize=9, ha='right', color='black')\n",
    "    plt.ylim(0,10)\n",
    "    plt.grid(True)\n",
    "    plt.legend()\n",
    "    if bool1 or bool2 or bool3:\n",
    "        print('Bingo!You get it')\n",
    "    else:\n",
    "        print('Oh No!You miss it!')"
   ]
  },
  {
   "cell_type": "code",
   "execution_count": 123,
   "id": "7897458e",
   "metadata": {},
   "outputs": [],
   "source": [
    "angle = 120\n",
    "point1 = np.array([-3,8])\n",
    "point2 = np.array([2,7])\n",
    "point3 = np.array([3,10])\n"
   ]
  },
  {
   "cell_type": "code",
   "execution_count": 124,
   "id": "0dfc50f5",
   "metadata": {},
   "outputs": [
    {
     "name": "stdout",
     "output_type": "stream",
     "text": [
      "Oh No!You miss it!\n"
     ]
    },
    {
     "data": {
      "image/png": "[encoded data removed]",
      "text/plain": [
       "<Figure size 432x288 with 1 Axes>"
      ]
     },
     "metadata": {
      "needs_background": "light"
     },
     "output_type": "display_data"
    }
   ],
   "source": [
    "laser(angle,point1,point2,point3)"
   ]
  },
  {
   "cell_type": "code",
   "execution_count": null,
   "id": "69bb47c1",
   "metadata": {},
   "outputs": [],
   "source": []
  }
 ],
 "metadata": {
  "kernelspec": {
   "display_name": "Python 3 (ipykernel)",
   "language": "python",
   "name": "python3"
  },
  "language_info": {
   "codemirror_mode": {
    "name": "ipython",
    "version": 3
   },
   "file_extension": ".py",
   "mimetype": "text/x-python",
   "name": "python",
   "nbconvert_exporter": "python",
   "pygments_lexer": "ipython3",
   "version": "3.9.12"
  }
 },
 "nbformat": 4,
 "nbformat_minor": 5
}
